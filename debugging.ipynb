{
 "cells": [
  {
   "cell_type": "code",
   "execution_count": 1,
   "id": "74fa5549",
   "metadata": {},
   "outputs": [],
   "source": [
    "from tokenizer.basic_bpe import BasicTokenizer"
   ]
  },
  {
   "cell_type": "code",
   "execution_count": 4,
   "id": "5705e756",
   "metadata": {},
   "outputs": [],
   "source": [
    "import os"
   ]
  },
  {
   "cell_type": "code",
   "execution_count": 8,
   "id": "d7df4962",
   "metadata": {},
   "outputs": [],
   "source": [
    "wd = os.getcwd()\n",
    "path = 'tokenizer.model'\n",
    "token_path = os.path.join(wd, path)"
   ]
  },
  {
   "cell_type": "code",
   "execution_count": 9,
   "id": "9ef6529c",
   "metadata": {},
   "outputs": [],
   "source": [
    "enc = BasicTokenizer()\n",
    "enc.load(token_path)"
   ]
  },
  {
   "cell_type": "code",
   "execution_count": 10,
   "id": "4535c4f7",
   "metadata": {},
   "outputs": [],
   "source": [
    "text = 'shut the fuck up'"
   ]
  },
  {
   "cell_type": "code",
   "execution_count": 11,
   "id": "1b31ccce",
   "metadata": {},
   "outputs": [
    {
     "data": {
      "text/plain": [
       "[365, 336, 295, 102, 117, 381, 32, 421]"
      ]
     },
     "execution_count": 11,
     "metadata": {},
     "output_type": "execute_result"
    }
   ],
   "source": [
    "enc.encode(text)\n",
    "# text"
   ]
  },
  {
   "cell_type": "code",
   "execution_count": 14,
   "id": "472e606a",
   "metadata": {},
   "outputs": [
    {
     "data": {
      "text/plain": [
       "1024"
      ]
     },
     "execution_count": 14,
     "metadata": {},
     "output_type": "execute_result"
    }
   ],
   "source": [
    "len(enc.vocab)"
   ]
  }
 ],
 "metadata": {
  "kernelspec": {
   "display_name": "base",
   "language": "python",
   "name": "python3"
  },
  "language_info": {
   "codemirror_mode": {
    "name": "ipython",
    "version": 3
   },
   "file_extension": ".py",
   "mimetype": "text/x-python",
   "name": "python",
   "nbconvert_exporter": "python",
   "pygments_lexer": "ipython3",
   "version": "3.10.12"
  }
 },
 "nbformat": 4,
 "nbformat_minor": 5
}
